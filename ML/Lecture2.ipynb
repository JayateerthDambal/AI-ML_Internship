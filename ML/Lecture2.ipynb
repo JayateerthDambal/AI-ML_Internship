{
 "cells": [
  {
   "cell_type": "code",
   "execution_count": 19,
   "metadata": {
    "collapsed": true
   },
   "outputs": [],
   "source": [
    "import pandas as pd\n",
    "import numpy as np\n",
    "import matplotlib.pyplot as plt"
   ]
  },
  {
   "cell_type": "code",
   "execution_count": 8,
   "outputs": [],
   "source": [
    "df = pd.read_csv('N:/PycharmProjects/AI-ML_Internship/assets/nyc_weather.csv')"
   ],
   "metadata": {
    "collapsed": false,
    "pycharm": {
     "name": "#%%\n"
    }
   }
  },
  {
   "cell_type": "code",
   "execution_count": 9,
   "outputs": [
    {
     "data": {
      "text/plain": "        EST  Temperature  DewPoint  Humidity  Sea Level PressureIn  \\\n0  1/1/2016           38        23        52                 30.03   \n1  1/2/2016           36        18        46                 30.02   \n2  1/3/2016           40        21        47                 29.86   \n3  1/4/2016           25         9        44                 30.05   \n4  1/5/2016           20        -3        41                 30.57   \n\n   VisibilityMiles  WindSpeedMPH PrecipitationIn  CloudCover Events  \\\n0               10           8.0               0           5    NaN   \n1               10           7.0               0           3    NaN   \n2               10           8.0               0           1    NaN   \n3               10           9.0               0           3    NaN   \n4               10           5.0               0           0    NaN   \n\n   WindDirDegrees  \n0             281  \n1             275  \n2             277  \n3             345  \n4             333  ",
      "text/html": "<div>\n<style scoped>\n    .dataframe tbody tr th:only-of-type {\n        vertical-align: middle;\n    }\n\n    .dataframe tbody tr th {\n        vertical-align: top;\n    }\n\n    .dataframe thead th {\n        text-align: right;\n    }\n</style>\n<table border=\"1\" class=\"dataframe\">\n  <thead>\n    <tr style=\"text-align: right;\">\n      <th></th>\n      <th>EST</th>\n      <th>Temperature</th>\n      <th>DewPoint</th>\n      <th>Humidity</th>\n      <th>Sea Level PressureIn</th>\n      <th>VisibilityMiles</th>\n      <th>WindSpeedMPH</th>\n      <th>PrecipitationIn</th>\n      <th>CloudCover</th>\n      <th>Events</th>\n      <th>WindDirDegrees</th>\n    </tr>\n  </thead>\n  <tbody>\n    <tr>\n      <th>0</th>\n      <td>1/1/2016</td>\n      <td>38</td>\n      <td>23</td>\n      <td>52</td>\n      <td>30.03</td>\n      <td>10</td>\n      <td>8.0</td>\n      <td>0</td>\n      <td>5</td>\n      <td>NaN</td>\n      <td>281</td>\n    </tr>\n    <tr>\n      <th>1</th>\n      <td>1/2/2016</td>\n      <td>36</td>\n      <td>18</td>\n      <td>46</td>\n      <td>30.02</td>\n      <td>10</td>\n      <td>7.0</td>\n      <td>0</td>\n      <td>3</td>\n      <td>NaN</td>\n      <td>275</td>\n    </tr>\n    <tr>\n      <th>2</th>\n      <td>1/3/2016</td>\n      <td>40</td>\n      <td>21</td>\n      <td>47</td>\n      <td>29.86</td>\n      <td>10</td>\n      <td>8.0</td>\n      <td>0</td>\n      <td>1</td>\n      <td>NaN</td>\n      <td>277</td>\n    </tr>\n    <tr>\n      <th>3</th>\n      <td>1/4/2016</td>\n      <td>25</td>\n      <td>9</td>\n      <td>44</td>\n      <td>30.05</td>\n      <td>10</td>\n      <td>9.0</td>\n      <td>0</td>\n      <td>3</td>\n      <td>NaN</td>\n      <td>345</td>\n    </tr>\n    <tr>\n      <th>4</th>\n      <td>1/5/2016</td>\n      <td>20</td>\n      <td>-3</td>\n      <td>41</td>\n      <td>30.57</td>\n      <td>10</td>\n      <td>5.0</td>\n      <td>0</td>\n      <td>0</td>\n      <td>NaN</td>\n      <td>333</td>\n    </tr>\n  </tbody>\n</table>\n</div>"
     },
     "execution_count": 9,
     "metadata": {},
     "output_type": "execute_result"
    }
   ],
   "source": [
    "df.head()"
   ],
   "metadata": {
    "collapsed": false,
    "pycharm": {
     "name": "#%%\n"
    }
   }
  },
  {
   "cell_type": "code",
   "execution_count": 10,
   "outputs": [
    {
     "data": {
      "text/plain": "EST                     31\nTemperature             31\nDewPoint                31\nHumidity                31\nSea Level PressureIn    31\nVisibilityMiles         31\nWindSpeedMPH            28\nPrecipitationIn         31\nCloudCover              31\nEvents                   9\nWindDirDegrees          31\ndtype: int64"
     },
     "execution_count": 10,
     "metadata": {},
     "output_type": "execute_result"
    }
   ],
   "source": [
    "df.count()"
   ],
   "metadata": {
    "collapsed": false,
    "pycharm": {
     "name": "#%%\n"
    }
   }
  },
  {
   "cell_type": "code",
   "execution_count": 11,
   "outputs": [
    {
     "data": {
      "text/plain": "          EST  Temperature\n0    1/1/2016           38\n1    1/2/2016           36\n2    1/3/2016           40\n3    1/4/2016           25\n4    1/5/2016           20\n5    1/6/2016           33\n6    1/7/2016           39\n7    1/8/2016           39\n8    1/9/2016           44\n9   1/10/2016           50\n10  1/11/2016           33\n11  1/12/2016           35\n12  1/13/2016           26\n13  1/14/2016           30\n14  1/15/2016           43\n15  1/16/2016           47\n16  1/17/2016           36\n17  1/18/2016           25\n18  1/19/2016           22\n19  1/20/2016           32\n20  1/21/2016           31\n21  1/22/2016           26\n22  1/23/2016           26\n23  1/24/2016           28\n24  1/25/2016           34\n25  1/26/2016           43\n26  1/27/2016           41\n27  1/28/2016           37\n28  1/29/2016           36\n29  1/30/2016           34\n30  1/31/2016           46",
      "text/html": "<div>\n<style scoped>\n    .dataframe tbody tr th:only-of-type {\n        vertical-align: middle;\n    }\n\n    .dataframe tbody tr th {\n        vertical-align: top;\n    }\n\n    .dataframe thead th {\n        text-align: right;\n    }\n</style>\n<table border=\"1\" class=\"dataframe\">\n  <thead>\n    <tr style=\"text-align: right;\">\n      <th></th>\n      <th>EST</th>\n      <th>Temperature</th>\n    </tr>\n  </thead>\n  <tbody>\n    <tr>\n      <th>0</th>\n      <td>1/1/2016</td>\n      <td>38</td>\n    </tr>\n    <tr>\n      <th>1</th>\n      <td>1/2/2016</td>\n      <td>36</td>\n    </tr>\n    <tr>\n      <th>2</th>\n      <td>1/3/2016</td>\n      <td>40</td>\n    </tr>\n    <tr>\n      <th>3</th>\n      <td>1/4/2016</td>\n      <td>25</td>\n    </tr>\n    <tr>\n      <th>4</th>\n      <td>1/5/2016</td>\n      <td>20</td>\n    </tr>\n    <tr>\n      <th>5</th>\n      <td>1/6/2016</td>\n      <td>33</td>\n    </tr>\n    <tr>\n      <th>6</th>\n      <td>1/7/2016</td>\n      <td>39</td>\n    </tr>\n    <tr>\n      <th>7</th>\n      <td>1/8/2016</td>\n      <td>39</td>\n    </tr>\n    <tr>\n      <th>8</th>\n      <td>1/9/2016</td>\n      <td>44</td>\n    </tr>\n    <tr>\n      <th>9</th>\n      <td>1/10/2016</td>\n      <td>50</td>\n    </tr>\n    <tr>\n      <th>10</th>\n      <td>1/11/2016</td>\n      <td>33</td>\n    </tr>\n    <tr>\n      <th>11</th>\n      <td>1/12/2016</td>\n      <td>35</td>\n    </tr>\n    <tr>\n      <th>12</th>\n      <td>1/13/2016</td>\n      <td>26</td>\n    </tr>\n    <tr>\n      <th>13</th>\n      <td>1/14/2016</td>\n      <td>30</td>\n    </tr>\n    <tr>\n      <th>14</th>\n      <td>1/15/2016</td>\n      <td>43</td>\n    </tr>\n    <tr>\n      <th>15</th>\n      <td>1/16/2016</td>\n      <td>47</td>\n    </tr>\n    <tr>\n      <th>16</th>\n      <td>1/17/2016</td>\n      <td>36</td>\n    </tr>\n    <tr>\n      <th>17</th>\n      <td>1/18/2016</td>\n      <td>25</td>\n    </tr>\n    <tr>\n      <th>18</th>\n      <td>1/19/2016</td>\n      <td>22</td>\n    </tr>\n    <tr>\n      <th>19</th>\n      <td>1/20/2016</td>\n      <td>32</td>\n    </tr>\n    <tr>\n      <th>20</th>\n      <td>1/21/2016</td>\n      <td>31</td>\n    </tr>\n    <tr>\n      <th>21</th>\n      <td>1/22/2016</td>\n      <td>26</td>\n    </tr>\n    <tr>\n      <th>22</th>\n      <td>1/23/2016</td>\n      <td>26</td>\n    </tr>\n    <tr>\n      <th>23</th>\n      <td>1/24/2016</td>\n      <td>28</td>\n    </tr>\n    <tr>\n      <th>24</th>\n      <td>1/25/2016</td>\n      <td>34</td>\n    </tr>\n    <tr>\n      <th>25</th>\n      <td>1/26/2016</td>\n      <td>43</td>\n    </tr>\n    <tr>\n      <th>26</th>\n      <td>1/27/2016</td>\n      <td>41</td>\n    </tr>\n    <tr>\n      <th>27</th>\n      <td>1/28/2016</td>\n      <td>37</td>\n    </tr>\n    <tr>\n      <th>28</th>\n      <td>1/29/2016</td>\n      <td>36</td>\n    </tr>\n    <tr>\n      <th>29</th>\n      <td>1/30/2016</td>\n      <td>34</td>\n    </tr>\n    <tr>\n      <th>30</th>\n      <td>1/31/2016</td>\n      <td>46</td>\n    </tr>\n  </tbody>\n</table>\n</div>"
     },
     "execution_count": 11,
     "metadata": {},
     "output_type": "execute_result"
    }
   ],
   "source": [
    "df[['EST', 'Temperature']]"
   ],
   "metadata": {
    "collapsed": false,
    "pycharm": {
     "name": "#%%\n"
    }
   }
  },
  {
   "cell_type": "code",
   "execution_count": 13,
   "outputs": [
    {
     "data": {
      "text/plain": "20"
     },
     "execution_count": 13,
     "metadata": {},
     "output_type": "execute_result"
    }
   ],
   "source": [
    "df['Temperature'].min()"
   ],
   "metadata": {
    "collapsed": false,
    "pycharm": {
     "name": "#%%\n"
    }
   }
  },
  {
   "cell_type": "code",
   "execution_count": 14,
   "outputs": [
    {
     "data": {
      "text/plain": "50"
     },
     "execution_count": 14,
     "metadata": {},
     "output_type": "execute_result"
    }
   ],
   "source": [
    "df['Temperature'].max()"
   ],
   "metadata": {
    "collapsed": false,
    "pycharm": {
     "name": "#%%\n"
    }
   }
  },
  {
   "cell_type": "code",
   "execution_count": 15,
   "outputs": [
    {
     "data": {
      "text/plain": "34.67741935483871"
     },
     "execution_count": 15,
     "metadata": {},
     "output_type": "execute_result"
    }
   ],
   "source": [
    "df['Temperature'].mean()"
   ],
   "metadata": {
    "collapsed": false,
    "pycharm": {
     "name": "#%%\n"
    }
   }
  },
  {
   "cell_type": "code",
   "execution_count": 17,
   "outputs": [
    {
     "data": {
      "text/plain": "7.639315400279416"
     },
     "execution_count": 17,
     "metadata": {},
     "output_type": "execute_result"
    }
   ],
   "source": [
    "df['Temperature'].std()"
   ],
   "metadata": {
    "collapsed": false,
    "pycharm": {
     "name": "#%%\n"
    }
   }
  },
  {
   "cell_type": "code",
   "execution_count": 18,
   "outputs": [
    {
     "data": {
      "text/plain": "       Temperature   DewPoint   Humidity  Sea Level PressureIn  \\\ncount    31.000000  31.000000  31.000000             31.000000   \nmean     34.677419  17.838710  51.677419             29.992903   \nstd       7.639315  11.378626  11.634395              0.237237   \nmin      20.000000  -3.000000  33.000000             29.520000   \n25%      29.000000  10.000000  44.500000             29.855000   \n50%      35.000000  18.000000  50.000000             30.010000   \n75%      39.500000  23.000000  55.000000             30.140000   \nmax      50.000000  46.000000  78.000000             30.570000   \n\n       VisibilityMiles  WindSpeedMPH  CloudCover  WindDirDegrees  \ncount        31.000000     28.000000   31.000000       31.000000  \nmean          9.193548      6.892857    3.129032      247.129032  \nstd           1.939405      2.871821    2.629853       92.308086  \nmin           1.000000      2.000000    0.000000       34.000000  \n25%           9.000000      5.000000    1.000000      238.000000  \n50%          10.000000      6.500000    3.000000      281.000000  \n75%          10.000000      8.000000    4.500000      300.000000  \nmax          10.000000     16.000000    8.000000      345.000000  ",
      "text/html": "<div>\n<style scoped>\n    .dataframe tbody tr th:only-of-type {\n        vertical-align: middle;\n    }\n\n    .dataframe tbody tr th {\n        vertical-align: top;\n    }\n\n    .dataframe thead th {\n        text-align: right;\n    }\n</style>\n<table border=\"1\" class=\"dataframe\">\n  <thead>\n    <tr style=\"text-align: right;\">\n      <th></th>\n      <th>Temperature</th>\n      <th>DewPoint</th>\n      <th>Humidity</th>\n      <th>Sea Level PressureIn</th>\n      <th>VisibilityMiles</th>\n      <th>WindSpeedMPH</th>\n      <th>CloudCover</th>\n      <th>WindDirDegrees</th>\n    </tr>\n  </thead>\n  <tbody>\n    <tr>\n      <th>count</th>\n      <td>31.000000</td>\n      <td>31.000000</td>\n      <td>31.000000</td>\n      <td>31.000000</td>\n      <td>31.000000</td>\n      <td>28.000000</td>\n      <td>31.000000</td>\n      <td>31.000000</td>\n    </tr>\n    <tr>\n      <th>mean</th>\n      <td>34.677419</td>\n      <td>17.838710</td>\n      <td>51.677419</td>\n      <td>29.992903</td>\n      <td>9.193548</td>\n      <td>6.892857</td>\n      <td>3.129032</td>\n      <td>247.129032</td>\n    </tr>\n    <tr>\n      <th>std</th>\n      <td>7.639315</td>\n      <td>11.378626</td>\n      <td>11.634395</td>\n      <td>0.237237</td>\n      <td>1.939405</td>\n      <td>2.871821</td>\n      <td>2.629853</td>\n      <td>92.308086</td>\n    </tr>\n    <tr>\n      <th>min</th>\n      <td>20.000000</td>\n      <td>-3.000000</td>\n      <td>33.000000</td>\n      <td>29.520000</td>\n      <td>1.000000</td>\n      <td>2.000000</td>\n      <td>0.000000</td>\n      <td>34.000000</td>\n    </tr>\n    <tr>\n      <th>25%</th>\n      <td>29.000000</td>\n      <td>10.000000</td>\n      <td>44.500000</td>\n      <td>29.855000</td>\n      <td>9.000000</td>\n      <td>5.000000</td>\n      <td>1.000000</td>\n      <td>238.000000</td>\n    </tr>\n    <tr>\n      <th>50%</th>\n      <td>35.000000</td>\n      <td>18.000000</td>\n      <td>50.000000</td>\n      <td>30.010000</td>\n      <td>10.000000</td>\n      <td>6.500000</td>\n      <td>3.000000</td>\n      <td>281.000000</td>\n    </tr>\n    <tr>\n      <th>75%</th>\n      <td>39.500000</td>\n      <td>23.000000</td>\n      <td>55.000000</td>\n      <td>30.140000</td>\n      <td>10.000000</td>\n      <td>8.000000</td>\n      <td>4.500000</td>\n      <td>300.000000</td>\n    </tr>\n    <tr>\n      <th>max</th>\n      <td>50.000000</td>\n      <td>46.000000</td>\n      <td>78.000000</td>\n      <td>30.570000</td>\n      <td>10.000000</td>\n      <td>16.000000</td>\n      <td>8.000000</td>\n      <td>345.000000</td>\n    </tr>\n  </tbody>\n</table>\n</div>"
     },
     "execution_count": 18,
     "metadata": {},
     "output_type": "execute_result"
    }
   ],
   "source": [
    "df.describe()"
   ],
   "metadata": {
    "collapsed": false,
    "pycharm": {
     "name": "#%%\n"
    }
   }
  },
  {
   "cell_type": "markdown",
   "source": [
    "## Movie Budget And Revenue Dataset"
   ],
   "metadata": {
    "collapsed": false,
    "pycharm": {
     "name": "#%% md\n"
    }
   }
  },
  {
   "cell_type": "code",
   "execution_count": 20,
   "outputs": [
    {
     "data": {
      "text/plain": "   production_budget_usd  worldwide_gross_usd\n0                1000000                   26\n1                  10000                  401\n2                 400000                  423\n3                 750000                  450\n4                  10000                  527",
      "text/html": "<div>\n<style scoped>\n    .dataframe tbody tr th:only-of-type {\n        vertical-align: middle;\n    }\n\n    .dataframe tbody tr th {\n        vertical-align: top;\n    }\n\n    .dataframe thead th {\n        text-align: right;\n    }\n</style>\n<table border=\"1\" class=\"dataframe\">\n  <thead>\n    <tr style=\"text-align: right;\">\n      <th></th>\n      <th>production_budget_usd</th>\n      <th>worldwide_gross_usd</th>\n    </tr>\n  </thead>\n  <tbody>\n    <tr>\n      <th>0</th>\n      <td>1000000</td>\n      <td>26</td>\n    </tr>\n    <tr>\n      <th>1</th>\n      <td>10000</td>\n      <td>401</td>\n    </tr>\n    <tr>\n      <th>2</th>\n      <td>400000</td>\n      <td>423</td>\n    </tr>\n    <tr>\n      <th>3</th>\n      <td>750000</td>\n      <td>450</td>\n    </tr>\n    <tr>\n      <th>4</th>\n      <td>10000</td>\n      <td>527</td>\n    </tr>\n  </tbody>\n</table>\n</div>"
     },
     "execution_count": 20,
     "metadata": {},
     "output_type": "execute_result"
    }
   ],
   "source": [
    "df = pd.read_csv('N:/PycharmProjects/AI-ML_Internship/assets/cost_revenue_clean.csv')\n",
    "df.head()"
   ],
   "metadata": {
    "collapsed": false,
    "pycharm": {
     "name": "#%%\n"
    }
   }
  },
  {
   "cell_type": "code",
   "execution_count": null,
   "outputs": [],
   "source": [],
   "metadata": {
    "collapsed": false,
    "pycharm": {
     "name": "#%%\n"
    }
   }
  }
 ],
 "metadata": {
  "kernelspec": {
   "display_name": "Python 3",
   "language": "python",
   "name": "python3"
  },
  "language_info": {
   "codemirror_mode": {
    "name": "ipython",
    "version": 2
   },
   "file_extension": ".py",
   "mimetype": "text/x-python",
   "name": "python",
   "nbconvert_exporter": "python",
   "pygments_lexer": "ipython2",
   "version": "2.7.6"
  }
 },
 "nbformat": 4,
 "nbformat_minor": 0
}